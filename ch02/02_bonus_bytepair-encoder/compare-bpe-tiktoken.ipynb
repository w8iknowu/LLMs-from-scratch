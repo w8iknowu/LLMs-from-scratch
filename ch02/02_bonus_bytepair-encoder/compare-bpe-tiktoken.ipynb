{
 "cells": [
  {
   "cell_type": "markdown",
   "id": "c503e5ef-6bb4-45c3-ac49-0e016cedd8d0",
   "metadata": {},
   "source": [
    "<table style=\"width:100%\">\n",
    "<tr>\n",
    "<td style=\"vertical-align:middle; text-align:left;\">\n",
    "<font size=\"2\">\n",
    "Supplementary code for the <a href=\"http://mng.bz/orYv\">Build a Large Language Model From Scratch</a> book by <a href=\"https://sebastianraschka.com\">Sebastian Raschka</a><br>\n",
    "<br>Code repository: <a href=\"https://github.com/rasbt/LLMs-from-scratch\">https://github.com/rasbt/LLMs-from-scratch</a>\n",
    "</font>\n",
    "</td>\n",
    "<td style=\"vertical-align:middle; text-align:left;\">\n",
    "<a href=\"http://mng.bz/orYv\"><img src=\"https://sebastianraschka.com/images/LLMs-from-scratch-images/cover-small.webp\" width=\"100px\"></a>\n",
    "</td>\n",
    "</tr>\n",
    "</table>\n"
   ]
  },
  {
   "cell_type": "markdown",
   "id": "8a9e554f-58e3-4787-832d-d149add1b857",
   "metadata": {},
   "source": [
    "- Install the additional package requirements for this bonus notebook by uncommenting and running the following cell:"
   ]
  },
  {
   "cell_type": "code",
   "execution_count": 1,
   "id": "d70bae22-b540-4a13-ab01-e748cb9d55c9",
   "metadata": {},
   "outputs": [],
   "source": [
    "# pip install -r requirements-extra.txt"
   ]
  },
  {
   "cell_type": "markdown",
   "id": "737c59bb-5922-46fc-a787-1369d70925b4",
   "metadata": {},
   "source": [
    "# Comparing Various Byte Pair Encoding (BPE) Implementations"
   ]
  },
  {
   "cell_type": "markdown",
   "id": "a9adc3bf-353c-411e-a471-0e92786e7103",
   "metadata": {},
   "source": [
    "<br>\n",
    "&nbsp;\n",
    "\n",
    "## Using BPE from `tiktoken`"
   ]
  },
  {
   "cell_type": "code",
   "id": "1c490fca-a48a-47fa-a299-322d1a08ad17",
   "metadata": {
    "ExecuteTime": {
     "end_time": "2024-12-23T01:07:30.367623Z",
     "start_time": "2024-12-23T01:07:30.362393Z"
    }
   },
   "source": [
    "from importlib.metadata import version\n",
    "\n",
    "print(\"tiktoken version:\", version(\"tiktoken\"))"
   ],
   "outputs": [
    {
     "name": "stdout",
     "output_type": "stream",
     "text": [
      "tiktoken version: 0.8.0\n"
     ]
    }
   ],
   "execution_count": 1
  },
  {
   "cell_type": "code",
   "id": "0952667c-ce84-4f21-87db-59f52b44cec4",
   "metadata": {
    "ExecuteTime": {
     "end_time": "2024-12-23T01:08:07.205294Z",
     "start_time": "2024-12-23T01:07:40.391001Z"
    }
   },
   "source": [
    "import tiktoken\n",
    "\n",
    "tik_tokenizer = tiktoken.get_encoding(\"gpt2\")\n",
    "\n",
    "text = \"Hello, world. Is this-- a test?\""
   ],
   "outputs": [],
   "execution_count": 2
  },
  {
   "cell_type": "code",
   "id": "b039c350-18ad-48fb-8e6a-085702dfc330",
   "metadata": {
    "ExecuteTime": {
     "end_time": "2024-12-23T01:18:45.365306Z",
     "start_time": "2024-12-23T01:18:45.362616Z"
    }
   },
   "source": [
    "integers = tik_tokenizer.encode(text, allowed_special={\"<|endoftext|>\"})\n",
    "\n",
    "print(integers)"
   ],
   "outputs": [
    {
     "name": "stdout",
     "output_type": "stream",
     "text": [
      "[15496, 11, 995, 13, 1148, 428, 438, 257, 1332, 30]\n"
     ]
    }
   ],
   "execution_count": 21
  },
  {
   "cell_type": "code",
   "id": "7b152ba4-04d3-41cc-849f-adedcfb8cabb",
   "metadata": {
    "ExecuteTime": {
     "end_time": "2024-12-23T01:18:46.412893Z",
     "start_time": "2024-12-23T01:18:46.410325Z"
    }
   },
   "source": [
    "strings = tik_tokenizer.decode(integers)\n",
    "\n",
    "print(strings)"
   ],
   "outputs": [
    {
     "name": "stdout",
     "output_type": "stream",
     "text": [
      "Hello, world. Is this-- a test?\n"
     ]
    }
   ],
   "execution_count": 22
  },
  {
   "cell_type": "code",
   "id": "cf148a1a-316b-43ec-b7ba-1b6d409ce837",
   "metadata": {
    "ExecuteTime": {
     "end_time": "2024-12-23T01:18:47.241648Z",
     "start_time": "2024-12-23T01:18:47.239177Z"
    }
   },
   "source": "print(tik_tokenizer.n_vocab)  # max token number that this tokenizer holds.",
   "outputs": [
    {
     "name": "stdout",
     "output_type": "stream",
     "text": [
      "50257\n"
     ]
    }
   ],
   "execution_count": 23
  },
  {
   "metadata": {
    "ExecuteTime": {
     "end_time": "2024-12-23T01:29:12.162123Z",
     "start_time": "2024-12-23T01:29:12.157927Z"
    }
   },
   "cell_type": "code",
   "source": [
    "print(tik_tokenizer.decode([50256]))\n",
    "# print(tik_tokenizer.encode('<|endoftext|>', allowed_special={\"<|endoftext|>\"}))\n",
    "# print(tik_tokenizer.encode('<|endoftext|>'))\n",
    "print(f'All Special token: {tik_tokenizer.special_tokens_set}')\n",
    "print(tik_tokenizer.encode('<|endoftext|>', disallowed_special=(tik_tokenizer.special_tokens_set - {\"<|endoftext|>\"})))\n",
    "\n"
   ],
   "id": "5cf2bf42dcad8fa2",
   "outputs": [
    {
     "name": "stdout",
     "output_type": "stream",
     "text": [
      "<|endoftext|>\n",
      "All Special token: {'<|endoftext|>'}\n",
      "[27, 91, 437, 1659, 5239, 91, 29]\n"
     ]
    }
   ],
   "execution_count": 35
  },
  {
   "cell_type": "markdown",
   "id": "6a0b5d4f-2af9-40de-828c-063c4243e771",
   "metadata": {},
   "source": [
    "<br>\n",
    "&nbsp;\n",
    "\n",
    "## Using the original BPE implementation used in GPT-2"
   ]
  },
  {
   "cell_type": "code",
   "id": "0903108c-65cb-4ae1-967a-2155e25349c2",
   "metadata": {
    "ExecuteTime": {
     "end_time": "2024-12-23T01:33:58.957291Z",
     "start_time": "2024-12-23T01:33:58.947526Z"
    }
   },
   "source": [
    "from bpe_openai_gpt2 import get_encoder, download_vocab"
   ],
   "outputs": [],
   "execution_count": 36
  },
  {
   "cell_type": "code",
   "id": "35dd8d7c-8c12-4b68-941a-0fd05882dd45",
   "metadata": {
    "ExecuteTime": {
     "end_time": "2024-12-23T01:34:30.408074Z",
     "start_time": "2024-12-23T01:34:00.309189Z"
    }
   },
   "source": [
    "\"\"\"\n",
    "requested files:\n",
    "1. encoder.json\n",
    "2. vocal.bpe\n",
    "you may skip this step,\n",
    "as needed files are included already in ./gpt2_modl\n",
    "\"\"\"\n",
    "download_vocab()"
   ],
   "outputs": [
    {
     "name": "stderr",
     "output_type": "stream",
     "text": [
      "Fetching encoder.json: 1.04Mit [00:18, 55.8kit/s]                                                   \n",
      "Fetching vocab.bpe: 457kit [00:09, 49.9kit/s]                                                       \n"
     ]
    }
   ],
   "execution_count": 37
  },
  {
   "cell_type": "code",
   "id": "1888a7a9-9c40-4fe0-99b4-ebd20aa1ffd0",
   "metadata": {
    "ExecuteTime": {
     "end_time": "2024-12-23T01:40:49.580662Z",
     "start_time": "2024-12-23T01:40:49.545125Z"
    }
   },
   "source": [
    "orig_tokenizer = get_encoder(model_name=\"gpt2_model\", models_dir=\".\")"
   ],
   "outputs": [],
   "execution_count": 43
  },
  {
   "cell_type": "code",
   "id": "2740510c-a78a-4fba-ae18-2b156ba2dfef",
   "metadata": {
    "ExecuteTime": {
     "end_time": "2024-12-23T01:34:39.391502Z",
     "start_time": "2024-12-23T01:34:39.387860Z"
    }
   },
   "source": [
    "integers = orig_tokenizer.encode(text)\n",
    "\n",
    "print(integers)"
   ],
   "outputs": [
    {
     "name": "stdout",
     "output_type": "stream",
     "text": [
      "[15496, 11, 995, 13, 1148, 428, 438, 257, 1332, 30]\n"
     ]
    }
   ],
   "execution_count": 39
  },
  {
   "cell_type": "code",
   "id": "434d115e-990d-42ad-88dd-31323a96e10f",
   "metadata": {
    "ExecuteTime": {
     "end_time": "2024-12-23T01:34:51.353262Z",
     "start_time": "2024-12-23T01:34:51.350333Z"
    }
   },
   "source": [
    "strings = orig_tokenizer.decode(integers)\n",
    "\n",
    "print(strings)"
   ],
   "outputs": [
    {
     "name": "stdout",
     "output_type": "stream",
     "text": [
      "Hello, world. Is this-- a test?\n"
     ]
    }
   ],
   "execution_count": 40
  },
  {
   "metadata": {
    "ExecuteTime": {
     "end_time": "2024-12-23T01:36:26.383255Z",
     "start_time": "2024-12-23T01:36:26.379806Z"
    }
   },
   "cell_type": "code",
   "source": "print(orig_tokenizer.encode('<|endoftext|>'))",
   "id": "c81c1609fc9ab1b9",
   "outputs": [
    {
     "name": "stdout",
     "output_type": "stream",
     "text": [
      "[27, 91, 437, 1659, 5239, 91, 29]\n"
     ]
    }
   ],
   "execution_count": 41
  },
  {
   "cell_type": "markdown",
   "id": "4f63e8c6-707c-4d66-bcf8-dd790647cc86",
   "metadata": {},
   "source": [
    "<br>\n",
    "&nbsp;\n",
    "\n",
    "## Using the BPE via Hugging Face transformers"
   ]
  },
  {
   "cell_type": "code",
   "id": "e9077bf4-f91f-42ad-ab76-f3d89128510e",
   "metadata": {
    "ExecuteTime": {
     "end_time": "2024-12-23T01:42:49.494370Z",
     "start_time": "2024-12-23T01:42:49.490779Z"
    }
   },
   "source": [
    "import transformers\n",
    "\n",
    "transformers.__version__"
   ],
   "outputs": [
    {
     "data": {
      "text/plain": [
       "'4.47.1'"
      ]
     },
     "execution_count": 45,
     "metadata": {},
     "output_type": "execute_result"
    }
   ],
   "execution_count": 45
  },
  {
   "cell_type": "code",
   "id": "a9839137-b8ea-4a2c-85fc-9a63064cf8c8",
   "metadata": {
    "ExecuteTime": {
     "end_time": "2024-12-23T01:42:59.449759Z",
     "start_time": "2024-12-23T01:42:57.922661Z"
    }
   },
   "source": [
    "from transformers import GPT2Tokenizer\n",
    "\n",
    "hf_tokenizer = GPT2Tokenizer.from_pretrained(\"gpt2\")"
   ],
   "outputs": [],
   "execution_count": 46
  },
  {
   "cell_type": "code",
   "id": "222cbd69-6a3d-4868-9c1f-421ffc9d5fe1",
   "metadata": {
    "ExecuteTime": {
     "end_time": "2024-12-23T01:43:02.444896Z",
     "start_time": "2024-12-23T01:43:02.440050Z"
    }
   },
   "source": [
    "hf_tokenizer(strings)[\"input_ids\"]"
   ],
   "outputs": [
    {
     "data": {
      "text/plain": [
       "[15496, 11, 995, 13, 1148, 428, 438, 257, 1332, 30]"
      ]
     },
     "execution_count": 47,
     "metadata": {},
     "output_type": "execute_result"
    }
   ],
   "execution_count": 47
  },
  {
   "metadata": {},
   "cell_type": "markdown",
   "source": "## Put them together",
   "id": "c4f70d6b275d2042"
  },
  {
   "metadata": {
    "ExecuteTime": {
     "end_time": "2024-12-23T01:50:20.856970Z",
     "start_time": "2024-12-23T01:50:20.853300Z"
    }
   },
   "cell_type": "code",
   "source": [
    "print(f'original input:   \"{text}\"')\n",
    "# tiktoken\n",
    "print(f'tiktoken:         {hf_tokenizer.encode(text)}')\n",
    "# gpt-2's original\n",
    "print(f\"gpt-2's original: {orig_tokenizer.encode(text)}\")\n",
    "# huggingface\n",
    "print(f'huggingface:      {hf_tokenizer(text)[\"input_ids\"]}')"
   ],
   "id": "4f7f9dde7f050a78",
   "outputs": [
    {
     "name": "stdout",
     "output_type": "stream",
     "text": [
      "original input:   \"Hello, world. Is this-- a test?\"\n",
      "tiktoken:         [15496, 11, 995, 13, 1148, 428, 438, 257, 1332, 30]\n",
      "gpt-2's original: [15496, 11, 995, 13, 1148, 428, 438, 257, 1332, 30]\n",
      "huggingface:      [15496, 11, 995, 13, 1148, 428, 438, 257, 1332, 30]\n"
     ]
    }
   ],
   "execution_count": 56
  },
  {
   "cell_type": "markdown",
   "id": "907a1ade-3401-4f2e-9017-7f58a60cbd98",
   "metadata": {},
   "source": [
    "<br>\n",
    "&nbsp;\n",
    "\n",
    "## A quick performance benchmark"
   ]
  },
  {
   "cell_type": "code",
   "execution_count": 15,
   "id": "a61bb445-b151-4a2f-8180-d4004c503754",
   "metadata": {},
   "outputs": [],
   "source": [
    "with open('../01_main-chapter-code/the-verdict.txt', 'r', encoding='utf-8') as f:\n",
    "    raw_text = f.read()"
   ]
  },
  {
   "cell_type": "code",
   "execution_count": 16,
   "id": "57f7c0a3-c1fd-4313-af34-68e78eb33653",
   "metadata": {},
   "outputs": [
    {
     "name": "stdout",
     "output_type": "stream",
     "text": [
      "4.29 ms ± 46.3 µs per loop (mean ± std. dev. of 7 runs, 100 loops each)\n"
     ]
    }
   ],
   "source": [
    "%timeit orig_tokenizer.encode(raw_text)"
   ]
  },
  {
   "cell_type": "code",
   "execution_count": 17,
   "id": "036dd628-3591-46c9-a5ce-b20b105a8062",
   "metadata": {},
   "outputs": [
    {
     "name": "stdout",
     "output_type": "stream",
     "text": [
      "1.4 ms ± 9.71 µs per loop (mean ± std. dev. of 7 runs, 1,000 loops each)\n"
     ]
    }
   ],
   "source": [
    "%timeit tik_tokenizer.encode(raw_text)"
   ]
  },
  {
   "cell_type": "code",
   "execution_count": 18,
   "id": "b9c85b58-bfbc-465e-9a7e-477e53d55c90",
   "metadata": {},
   "outputs": [
    {
     "name": "stderr",
     "output_type": "stream",
     "text": [
      "Token indices sequence length is longer than the specified maximum sequence length for this model (5145 > 1024). Running this sequence through the model will result in indexing errors\n"
     ]
    },
    {
     "name": "stdout",
     "output_type": "stream",
     "text": [
      "8.46 ms ± 48.8 µs per loop (mean ± std. dev. of 7 runs, 100 loops each)\n"
     ]
    }
   ],
   "source": [
    "%timeit hf_tokenizer(raw_text)[\"input_ids\"]"
   ]
  },
  {
   "cell_type": "code",
   "execution_count": 19,
   "id": "7117107f-22a6-46b4-a442-712d50b3ac7a",
   "metadata": {},
   "outputs": [
    {
     "name": "stdout",
     "output_type": "stream",
     "text": [
      "8.36 ms ± 184 µs per loop (mean ± std. dev. of 7 runs, 100 loops each)\n"
     ]
    }
   ],
   "source": [
    "%timeit hf_tokenizer(raw_text, max_length=5145, truncation=True)[\"input_ids\"]"
   ]
  }
 ],
 "metadata": {
  "kernelspec": {
   "display_name": "Python 3 (ipykernel)",
   "language": "python",
   "name": "python3"
  },
  "language_info": {
   "codemirror_mode": {
    "name": "ipython",
    "version": 3
   },
   "file_extension": ".py",
   "mimetype": "text/x-python",
   "name": "python",
   "nbconvert_exporter": "python",
   "pygments_lexer": "ipython3",
   "version": "3.11.4"
  }
 },
 "nbformat": 4,
 "nbformat_minor": 5
}
